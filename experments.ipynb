{
 "cells": [
  {
   "cell_type": "code",
   "execution_count": 2,
   "id": "1eb5d8ad-4e11-4fd0-ab9d-06736ee8c206",
   "metadata": {},
   "outputs": [],
   "source": [
    "import numpy as np"
   ]
  },
  {
   "cell_type": "code",
   "execution_count": 45,
   "id": "d971e0d6-cdfc-4276-a0db-83d48171d438",
   "metadata": {},
   "outputs": [],
   "source": [
    "def left_slide(v):\n",
    "    N = len(v)\n",
    "    # Remove zeros\n",
    "    v_z = v[v!=0]\n",
    "    # Join between equal numbers\n",
    "    n = len(v_z)\n",
    "    for i in range(n-1):\n",
    "        if v_z[i]==v_z[i+1]:\n",
    "            v_z[i] *= 2\n",
    "            v_z[i+1] = 0\n",
    "    # Remove zeros\n",
    "    v_z = v_z[v_z!=0]\n",
    "    m = len(v_z)\n",
    "    # Padding\n",
    "    return np.pad(v_z, (0, N-m))"
   ]
  },
  {
   "cell_type": "code",
   "execution_count": 5,
   "id": "da62e9e2-af14-441e-b1a0-4b7bce90bfa6",
   "metadata": {},
   "outputs": [],
   "source": [
    "def right_slide(v):\n",
    "    N = len(v)\n",
    "    # Remove zeros\n",
    "    v_z = v[v!=0]\n",
    "    # Join between equal numbers\n",
    "    n = len(v_z)\n",
    "    for i in range(n-1, 0, -1):\n",
    "        if v_z[i]==v_z[i-1]:\n",
    "            v_z[i] *= 2\n",
    "            v_z[i-1] = 0\n",
    "    # Remove zeros\n",
    "    v_z = v_z[v_z!=0]\n",
    "    m = len(v_z)\n",
    "    # Padding\n",
    "    return np.pad(v_z, (N-m, 0))"
   ]
  },
  {
   "cell_type": "code",
   "execution_count": 6,
   "id": "ee55a6a8",
   "metadata": {},
   "outputs": [
    {
     "data": {
      "text/plain": [
       "array([0, 1, 2, 2])"
      ]
     },
     "execution_count": 6,
     "metadata": {},
     "output_type": "execute_result"
    }
   ],
   "source": [
    "right_slide(\n",
    "    np.array(\n",
    "        [1, 2, 1, 1]\n",
    "    )\n",
    ")"
   ]
  },
  {
   "cell_type": "code",
   "execution_count": 48,
   "id": "4c821b8c-b662-4ab3-95a2-62d7a54fa28e",
   "metadata": {},
   "outputs": [
    {
     "name": "stdout",
     "output_type": "stream",
     "text": [
      "[0 1 1 1 1 1 2 1 2 2 2 3 1 0 0 0 0 1 1 2 2]\n",
      "[1 1 1 1 1 2 1 2 2 2 3 1 1 1 2 2]\n",
      "[2 0 2 0 1 2 1 4 0 2 3 2 0 1 4 0]\n",
      "[2 2 1 2 1 4 2 3 2 1 4]\n",
      "[2 2 1 2 1 4 2 3 2 1 4 0 0 0 0 0 0 0 0 0 0]\n"
     ]
    }
   ],
   "source": [
    "v = np.array([\n",
    "    0, 1, 1, 1, 1, 1, 2, 1, 2, 2, 2, 3, 1, 0, 0, 0, 0, 1, 1, 2, 2\n",
    "])\n",
    "N = len(v)\n",
    "print(v)\n",
    "\n",
    "v_z = v[v!=0]\n",
    "print(v_z)\n",
    "\n",
    "n = len(v_z)\n",
    "for i in range(n-1):\n",
    "    if v_z[i]==v_z[i+1]:\n",
    "        v_z[i] *= 2\n",
    "        v_z[i+1] = 0\n",
    "print(v_z)\n",
    "\n",
    "v_zz = v_z[v_z!=0]\n",
    "print(v_zz)\n",
    "\n",
    "m = len(v_zz)\n",
    "print(np.pad(v_zz, (0, N-m)))"
   ]
  },
  {
   "cell_type": "code",
   "execution_count": 47,
   "id": "a246101f-bbe1-4fc8-9d29-bcb2f8234902",
   "metadata": {},
   "outputs": [
    {
     "name": "stdout",
     "output_type": "stream",
     "text": [
      "[0 1 1 1 1 1 2 1 2 2 2 3 1 0 0 0 0 1 1 2 2]\n",
      "[1 1 1 1 1 2 1 2 2 2 3 1 1 1 2 2]\n",
      "[1 2 2 2 1 2 4 3 1 2 4]\n",
      "[0 0 0 0 0 0 0 0 0 0 1 2 2 2 1 2 4 3 1 2 4]\n"
     ]
    }
   ],
   "source": [
    "print(v)\n",
    "N = len(v)\n",
    "# Remove zeros\n",
    "v_z = v[v!=0]\n",
    "print(v_z)\n",
    "# Join between similar numbers\n",
    "n = len(v_z)\n",
    "for i in range(n-1, 0, -1):\n",
    "    if v_z[i]==v_z[i-1]:\n",
    "        v_z[i-1] *= 2\n",
    "        v_z[i] = 0\n",
    "# Remove zeros\n",
    "v_z = v_z[v_z!=0]\n",
    "print(v_z)\n",
    "m = len(v_z)\n",
    "# Padding\n",
    "print(np.pad(v_z, (N-m, 0)))"
   ]
  },
  {
   "cell_type": "code",
   "execution_count": 49,
   "id": "214d2110-0a89-407f-86b0-2bc3db498df3",
   "metadata": {},
   "outputs": [
    {
     "name": "stdout",
     "output_type": "stream",
     "text": [
      "[0 1 1 1 1 1 2 1 2 2 2 3 1 0 0 0 0 1 1 2 2]\n",
      "[2 2 1 2 1 4 2 3 2 1 4 0 0 0 0 0 0 0 0 0 0]\n",
      "[0 0 0 0 0 0 0 0 0 0 1 2 2 2 1 2 4 3 1 2 4]\n"
     ]
    }
   ],
   "source": [
    "v = np.array([\n",
    "    0, 1, 1, 1, 1, 1, 2, 1, 2, 2, 2, 3, 1, 0, 0, 0, 0, 1, 1, 2, 2\n",
    "])\n",
    "print(v)\n",
    "print(left_slide(v))\n",
    "print(right_slide(v))"
   ]
  },
  {
   "cell_type": "code",
   "execution_count": 36,
   "id": "f8e3eb3f-b9e3-4b43-a407-2f874d0fd317",
   "metadata": {},
   "outputs": [
    {
     "name": "stdout",
     "output_type": "stream",
     "text": [
      "5\n",
      "4\n",
      "3\n",
      "2\n",
      "1\n"
     ]
    }
   ],
   "source": [
    "for i in range(5, 0, -1):\n",
    "    print(i)"
   ]
  },
  {
   "cell_type": "code",
   "execution_count": 50,
   "id": "44b5866c-2634-4722-a5a2-afea0a19daab",
   "metadata": {},
   "outputs": [
    {
     "data": {
      "text/plain": [
       "array([[ 0,  1,  2,  3],\n",
       "       [ 4,  5,  6,  7],\n",
       "       [ 8,  9, 10, 11],\n",
       "       [12, 13, 14, 15]])"
      ]
     },
     "execution_count": 50,
     "metadata": {},
     "output_type": "execute_result"
    }
   ],
   "source": [
    "a = np.arange(4*4).reshape(4,4)\n",
    "a"
   ]
  },
  {
   "cell_type": "code",
   "execution_count": 52,
   "id": "501b689f-6f17-4c98-930c-97c825674679",
   "metadata": {},
   "outputs": [
    {
     "name": "stdout",
     "output_type": "stream",
     "text": [
      "[0 1 2 3]\n",
      "[4 5 6 7]\n",
      "[ 8  9 10 11]\n",
      "[12 13 14 15]\n"
     ]
    }
   ],
   "source": [
    "for u in range(4):\n",
    "    print(a[u, :])"
   ]
  },
  {
   "cell_type": "code",
   "execution_count": 53,
   "id": "e5f4b0f0-204d-4a28-bece-5b20edb02332",
   "metadata": {},
   "outputs": [
    {
     "data": {
      "text/plain": [
       "array([12, 13, 14, 15])"
      ]
     },
     "execution_count": 53,
     "metadata": {},
     "output_type": "execute_result"
    }
   ],
   "source": [
    "a[u, :]"
   ]
  },
  {
   "cell_type": "code",
   "execution_count": 54,
   "id": "2bb18744-d782-4344-beb6-4ea598d617fc",
   "metadata": {},
   "outputs": [
    {
     "data": {
      "text/plain": [
       "array([ 3,  7, 11, 15])"
      ]
     },
     "execution_count": 54,
     "metadata": {},
     "output_type": "execute_result"
    }
   ],
   "source": [
    "a[:, u]"
   ]
  }
 ],
 "metadata": {
  "kernelspec": {
   "display_name": "Python 3 (ipykernel)",
   "language": "python",
   "name": "python3"
  },
  "language_info": {
   "codemirror_mode": {
    "name": "ipython",
    "version": 3
   },
   "file_extension": ".py",
   "mimetype": "text/x-python",
   "name": "python",
   "nbconvert_exporter": "python",
   "pygments_lexer": "ipython3",
   "version": "3.11.9"
  }
 },
 "nbformat": 4,
 "nbformat_minor": 5
}
