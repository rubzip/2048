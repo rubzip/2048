{
 "cells": [
  {
   "cell_type": "code",
   "execution_count": 2,
   "id": "1eb5d8ad-4e11-4fd0-ab9d-06736ee8c206",
   "metadata": {},
   "outputs": [],
   "source": [
    "import numpy as np\n",
    "from Board import Board"
   ]
  },
  {
   "cell_type": "code",
   "execution_count": 2,
   "id": "760a9957",
   "metadata": {},
   "outputs": [
    {
     "name": "stdout",
     "output_type": "stream",
     "text": [
      "[[1 2 0 2]\n",
      " [0 2 0 2]\n",
      " [1 0 0 0]\n",
      " [1 2 1 1]]\n"
     ]
    }
   ],
   "source": [
    "board = Board(\n",
    "    grid=np.array(\n",
    "        [\n",
    "            [1,2,0,2],\n",
    "            [0,2,0,2],\n",
    "            [1,0,0,0],\n",
    "            [1,2,1,1]\n",
    "        ]\n",
    "    )\n",
    ")\n",
    "print(board)"
   ]
  },
  {
   "cell_type": "code",
   "execution_count": 5,
   "id": "4110cbee",
   "metadata": {},
   "outputs": [
    {
     "name": "stdout",
     "output_type": "stream",
     "text": [
      "[[0 2 0 0]\n",
      " [0 0 0 0]\n",
      " [0 0 0 0]\n",
      " [0 0 0 0]]\n",
      "['down', 'left', 'right']\n",
      "[[0 0 0 0]\n",
      " [0 0 0 0]\n",
      " [0 0 0 0]\n",
      " [0 2 0 2]]\n",
      "['up', 'left', 'right']\n",
      "[[0 0 0 0]\n",
      " [0 0 0 0]\n",
      " [0 0 2 0]\n",
      " [4 0 0 0]]\n",
      "['up', 'down', 'left', 'right']\n",
      "[[4 0 2 0]\n",
      " [0 0 0 0]\n",
      " [2 0 0 0]\n",
      " [0 0 0 0]]\n",
      "['up', 'down', 'left', 'right']\n",
      "[[4 0 2 0]\n",
      " [2 0 2 0]\n",
      " [0 0 0 0]\n",
      " [0 0 0 0]]\n",
      "['up', 'down', 'left', 'right']\n",
      "[[4 2 0 0]\n",
      " [4 0 0 2]\n",
      " [0 0 0 0]\n",
      " [0 0 0 0]]\n",
      "['up', 'down', 'left', 'right']\n"
     ]
    },
    {
     "ename": "Exception",
     "evalue": "Movement  is not allowed, try with: ['up', 'down', 'left', 'right']",
     "output_type": "error",
     "traceback": [
      "\u001b[1;31m---------------------------------------------------------------------------\u001b[0m",
      "\u001b[1;31mException\u001b[0m                                 Traceback (most recent call last)",
      "Cell \u001b[1;32mIn[5], line 8\u001b[0m\n\u001b[0;32m      6\u001b[0m \u001b[38;5;28mprint\u001b[39m(board\u001b[38;5;241m.\u001b[39mpossible_moves)\n\u001b[0;32m      7\u001b[0m move \u001b[38;5;241m=\u001b[39m \u001b[38;5;28minput\u001b[39m(\u001b[38;5;124m\"\u001b[39m\u001b[38;5;124mMove:\u001b[39m\u001b[38;5;124m\"\u001b[39m )\n\u001b[1;32m----> 8\u001b[0m \u001b[43mboard\u001b[49m\u001b[38;5;241;43m.\u001b[39;49m\u001b[43mmove\u001b[49m\u001b[43m(\u001b[49m\u001b[43mmove\u001b[49m\u001b[43m)\u001b[49m\n\u001b[0;32m      9\u001b[0m board\u001b[38;5;241m.\u001b[39madd_2()\n\u001b[0;32m     10\u001b[0m board\u001b[38;5;241m.\u001b[39mcheck_possible_moves()\n",
      "File \u001b[1;32mc:\\Users\\ruben\\OneDrive\\Documentos\\GitHub\\2048\\2048\\Board.py:119\u001b[0m, in \u001b[0;36mBoard.move\u001b[1;34m(self, movement, return_values)\u001b[0m\n\u001b[0;32m    117\u001b[0m     \u001b[38;5;28mself\u001b[39m\u001b[38;5;241m.\u001b[39mgrid \u001b[38;5;241m=\u001b[39m \u001b[38;5;28mself\u001b[39m\u001b[38;5;241m.\u001b[39mresults[movement]\n\u001b[0;32m    118\u001b[0m \u001b[38;5;28;01melse\u001b[39;00m:\n\u001b[1;32m--> 119\u001b[0m     \u001b[38;5;28;01mraise\u001b[39;00m \u001b[38;5;167;01mException\u001b[39;00m(\u001b[38;5;124mf\u001b[39m\u001b[38;5;124m\"\u001b[39m\u001b[38;5;124mMovement \u001b[39m\u001b[38;5;132;01m{\u001b[39;00mmovement\u001b[38;5;132;01m}\u001b[39;00m\u001b[38;5;124m is not allowed, try with: \u001b[39m\u001b[38;5;132;01m{\u001b[39;00m\u001b[38;5;28mself\u001b[39m\u001b[38;5;241m.\u001b[39mpossible_moves\u001b[38;5;132;01m}\u001b[39;00m\u001b[38;5;124m\"\u001b[39m)\n\u001b[0;32m    120\u001b[0m \u001b[38;5;28;01mif\u001b[39;00m return_values:\n\u001b[0;32m    121\u001b[0m     \u001b[38;5;28;01mreturn\u001b[39;00m \u001b[38;5;28mself\u001b[39m\u001b[38;5;241m.\u001b[39mgrid\n",
      "\u001b[1;31mException\u001b[0m: Movement  is not allowed, try with: ['up', 'down', 'left', 'right']"
     ]
    }
   ],
   "source": [
    "# main structure:\n",
    "\n",
    "board = Board()\n",
    "while not board.game_over:\n",
    "    print(board)\n",
    "    print(board.possible_moves)\n",
    "    move = input(\"Move:\" )\n",
    "    board.move(move)\n",
    "    board.add_2()\n",
    "    board.check_possible_moves()\n",
    "    board.is_game_over()"
   ]
  },
  {
   "cell_type": "code",
   "execution_count": 3,
   "id": "ad7d620e",
   "metadata": {},
   "outputs": [
    {
     "name": "stdout",
     "output_type": "stream",
     "text": [
      "[[1 2 0 2]\n",
      " [0 2 0 2]\n",
      " [1 0 0 0]\n",
      " [1 2 1 1]]\n",
      "Left:\n",
      "[[1 4 0 0]\n",
      " [4 0 0 0]\n",
      " [1 0 0 0]\n",
      " [1 2 2 0]]\n"
     ]
    }
   ],
   "source": [
    "print(board)\n",
    "print(\"Left:\")\n",
    "print(board.move_left())"
   ]
  },
  {
   "cell_type": "code",
   "execution_count": 4,
   "id": "2292df3d",
   "metadata": {},
   "outputs": [
    {
     "name": "stdout",
     "output_type": "stream",
     "text": [
      "[[1 2 0 2]\n",
      " [0 2 0 2]\n",
      " [1 0 0 0]\n",
      " [1 2 1 1]]\n",
      "Right:\n",
      "[[0 0 1 4]\n",
      " [0 0 0 4]\n",
      " [0 0 0 1]\n",
      " [0 1 2 2]]\n"
     ]
    }
   ],
   "source": [
    "print(board)\n",
    "print(\"Right:\")\n",
    "print(board.move_right())"
   ]
  },
  {
   "cell_type": "code",
   "execution_count": 5,
   "id": "4d598084",
   "metadata": {},
   "outputs": [
    {
     "name": "stdout",
     "output_type": "stream",
     "text": [
      "[[1 2 0 2]\n",
      " [0 2 0 2]\n",
      " [1 0 0 0]\n",
      " [1 2 1 1]]\n",
      "Up:\n",
      "[[2 4 1 4]\n",
      " [1 2 0 1]\n",
      " [0 0 0 0]\n",
      " [0 0 0 0]]\n"
     ]
    }
   ],
   "source": [
    "print(board)\n",
    "print(\"Up:\")\n",
    "print(board.move_up())"
   ]
  },
  {
   "cell_type": "code",
   "execution_count": 8,
   "id": "fd8d7af9",
   "metadata": {},
   "outputs": [
    {
     "name": "stdout",
     "output_type": "stream",
     "text": [
      "[[1 2 0 2]\n",
      " [0 2 0 2]\n",
      " [1 0 0 0]\n",
      " [1 2 1 1]]\n",
      "Down:\n",
      "[[0 0 0 0]\n",
      " [0 0 0 0]\n",
      " [1 2 0 4]\n",
      " [2 4 1 1]]\n"
     ]
    }
   ],
   "source": [
    "print(board)\n",
    "print(\"Down:\")\n",
    "print(board.move_down())"
   ]
  }
 ],
 "metadata": {
  "kernelspec": {
   "display_name": "Python 3 (ipykernel)",
   "language": "python",
   "name": "python3"
  },
  "language_info": {
   "codemirror_mode": {
    "name": "ipython",
    "version": 3
   },
   "file_extension": ".py",
   "mimetype": "text/x-python",
   "name": "python",
   "nbconvert_exporter": "python",
   "pygments_lexer": "ipython3",
   "version": "3.11.9"
  }
 },
 "nbformat": 4,
 "nbformat_minor": 5
}
