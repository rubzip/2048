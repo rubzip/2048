{
 "cells": [
  {
   "cell_type": "code",
   "execution_count": 1,
   "id": "1eb5d8ad-4e11-4fd0-ab9d-06736ee8c206",
   "metadata": {},
   "outputs": [],
   "source": [
    "import numpy as np\n",
    "from Board import Board"
   ]
  },
  {
   "cell_type": "code",
   "execution_count": 2,
   "id": "760a9957",
   "metadata": {},
   "outputs": [
    {
     "name": "stdout",
     "output_type": "stream",
     "text": [
      "[[1 2 0 2]\n",
      " [0 2 0 2]\n",
      " [1 0 0 0]\n",
      " [1 2 1 1]]\n"
     ]
    }
   ],
   "source": [
    "board = Board(\n",
    "    grid=np.array(\n",
    "        [\n",
    "            [1,2,0,2],\n",
    "            [0,2,0,2],\n",
    "            [1,0,0,0],\n",
    "            [1,2,1,1]\n",
    "        ]\n",
    "    )\n",
    ")\n",
    "print(board)"
   ]
  },
  {
   "cell_type": "code",
   "execution_count": 5,
   "id": "4110cbee",
   "metadata": {},
   "outputs": [
    {
     "name": "stdout",
     "output_type": "stream",
     "text": [
      "[[0 0 0 0]\n",
      " [0 0 0 0]\n",
      " [0 0 2 0]\n",
      " [0 0 0 0]]\n",
      "['up', 'down', 'left', 'right']\n",
      "[[0 0 2 0]\n",
      " [0 0 0 0]\n",
      " [0 0 2 0]\n",
      " [0 0 0 0]]\n",
      "['up', 'down', 'left', 'right']\n",
      "[[0 0 4 0]\n",
      " [0 0 0 0]\n",
      " [0 0 0 0]\n",
      " [0 2 0 0]]\n",
      "['up', 'down', 'left', 'right']\n",
      "[[4 0 2 0]\n",
      " [0 0 0 0]\n",
      " [0 0 0 0]\n",
      " [2 0 0 0]]\n",
      "['up', 'down', 'left', 'right']\n",
      "[[4 0 2 0]\n",
      " [2 0 2 0]\n",
      " [0 0 0 0]\n",
      " [0 0 0 0]]\n",
      "['up', 'down', 'left', 'right']\n",
      "[[4 2 0 0]\n",
      " [4 0 0 0]\n",
      " [0 0 0 2]\n",
      " [0 0 0 0]]\n",
      "['up', 'down', 'left', 'right']\n",
      "[[8 2 0 2]\n",
      " [0 0 0 0]\n",
      " [0 0 0 0]\n",
      " [0 0 2 0]]\n",
      "['up', 'down', 'left', 'right']\n"
     ]
    }
   ],
   "source": [
    "board = Board()\n",
    "while not board.game_over:\n",
    "    print(board)\n",
    "    print(board.possible_moves)\n",
    "    move = input(\"Move:\" )\n",
    "    board.move(move)\n",
    "    board.add_2()\n",
    "    board.check_possible_moves()\n",
    "    board.is_game_over()"
   ]
  },
  {
   "cell_type": "code",
   "execution_count": 3,
   "id": "ad7d620e",
   "metadata": {},
   "outputs": [
    {
     "name": "stdout",
     "output_type": "stream",
     "text": [
      "[[1 2 0 2]\n",
      " [0 2 0 2]\n",
      " [1 0 0 0]\n",
      " [1 2 1 1]]\n",
      "Left:\n",
      "[[1 4 0 0]\n",
      " [4 0 0 0]\n",
      " [1 0 0 0]\n",
      " [1 2 2 0]]\n"
     ]
    }
   ],
   "source": [
    "print(board)\n",
    "print(\"Left:\")\n",
    "print(board.move_left())"
   ]
  },
  {
   "cell_type": "code",
   "execution_count": 4,
   "id": "2292df3d",
   "metadata": {},
   "outputs": [
    {
     "name": "stdout",
     "output_type": "stream",
     "text": [
      "[[1 2 0 2]\n",
      " [0 2 0 2]\n",
      " [1 0 0 0]\n",
      " [1 2 1 1]]\n",
      "Right:\n",
      "[[0 0 1 4]\n",
      " [0 0 0 4]\n",
      " [0 0 0 1]\n",
      " [0 1 2 2]]\n"
     ]
    }
   ],
   "source": [
    "print(board)\n",
    "print(\"Right:\")\n",
    "print(board.move_right())"
   ]
  },
  {
   "cell_type": "code",
   "execution_count": 5,
   "id": "4d598084",
   "metadata": {},
   "outputs": [
    {
     "name": "stdout",
     "output_type": "stream",
     "text": [
      "[[1 2 0 2]\n",
      " [0 2 0 2]\n",
      " [1 0 0 0]\n",
      " [1 2 1 1]]\n",
      "Up:\n",
      "[[2 4 1 4]\n",
      " [1 2 0 1]\n",
      " [0 0 0 0]\n",
      " [0 0 0 0]]\n"
     ]
    }
   ],
   "source": [
    "print(board)\n",
    "print(\"Up:\")\n",
    "print(board.move_up())"
   ]
  },
  {
   "cell_type": "code",
   "execution_count": 8,
   "id": "fd8d7af9",
   "metadata": {},
   "outputs": [
    {
     "name": "stdout",
     "output_type": "stream",
     "text": [
      "[[1 2 0 2]\n",
      " [0 2 0 2]\n",
      " [1 0 0 0]\n",
      " [1 2 1 1]]\n",
      "Down:\n",
      "[[0 0 0 0]\n",
      " [0 0 0 0]\n",
      " [1 2 0 4]\n",
      " [2 4 1 1]]\n"
     ]
    }
   ],
   "source": [
    "print(board)\n",
    "print(\"Down:\")\n",
    "print(board.move_down())"
   ]
  }
 ],
 "metadata": {
  "kernelspec": {
   "display_name": "Python 3 (ipykernel)",
   "language": "python",
   "name": "python3"
  },
  "language_info": {
   "codemirror_mode": {
    "name": "ipython",
    "version": 3
   },
   "file_extension": ".py",
   "mimetype": "text/x-python",
   "name": "python",
   "nbconvert_exporter": "python",
   "pygments_lexer": "ipython3",
   "version": "3.11.9"
  }
 },
 "nbformat": 4,
 "nbformat_minor": 5
}
